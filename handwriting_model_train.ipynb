{
  "cells": [
    {
      "cell_type": "code",
      "execution_count": null,
      "metadata": {
        "colab": {
          "base_uri": "https://localhost:8080/"
        },
        "id": "JJYEZZKL4x8l",
        "outputId": "6e5d28bf-586c-4953-ddfa-3a9d845670b4"
      },
      "outputs": [
        {
          "name": "stdout",
          "output_type": "stream",
          "text": [
            "2.11.0\n"
          ]
        }
      ],
      "source": [
        "import tensorflow as tf\n",
        "from tensorflow import keras\n",
        "import numpy as np\n",
        "import pandas as pd\n",
        "print(tf.__version__)"
      ]
    },
    {
      "cell_type": "code",
      "execution_count": null,
      "metadata": {
        "colab": {
          "base_uri": "https://localhost:8080/"
        },
        "id": "lfJ8NFwX43oy",
        "outputId": "1486f4ba-e41a-478d-85aa-0592cb272a1d"
      },
      "outputs": [
        {
          "name": "stdout",
          "output_type": "stream",
          "text": [
            "Downloading data from https://storage.googleapis.com/tensorflow/tf-keras-datasets/mnist.npz\n",
            "11490434/11490434 [==============================] - 0s 0us/step\n"
          ]
        }
      ],
      "source": [
        "mnist = keras.datasets.mnist\n",
        "(train_images_mnist,train_labels_mnist),(test_images_mnist,test_labels_mnist) = mnist.load_data()\n",
        "# images are reshaped to be used by the flow method of a keras ImageGenerator\n",
        "train_images_mnist = np.reshape(train_images_mnist,(train_images_mnist.shape[0],28,28,1))  \n",
        "test_images_mnist = np.reshape(test_images_mnist,(test_images_mnist.shape[0],28,28,1))"
      ]
    },
    {
      "cell_type": "code",
      "execution_count": null,
      "metadata": {
        "colab": {
          "base_uri": "https://localhost:8080/"
        },
        "id": "7qyLtGSA487Q",
        "outputId": "5a506596-e4a9-4470-f05b-d2ca0d35db36"
      },
      "outputs": [
        {
          "name": "stdout",
          "output_type": "stream",
          "text": [
            "Mounted at /content/drive\n"
          ]
        }
      ],
      "source": [
        "from google.colab import drive\n",
        "drive.mount('/content/drive')"
      ]
    },
    {
      "cell_type": "code",
      "execution_count": null,
      "metadata": {
        "id": "JWmwXeTF44uE"
      },
      "outputs": [],
      "source": [
        "az_data_path = '/content/drive/MyDrive/A_Z Handwritten Data.csv'\n",
        "AZ_data = pd.read_csv(az_data_path, header = None)\n",
        "# the first column contains label values, while the remaining are the flattened array of 28 x 28 image pixels\n",
        "AZ_labels = AZ_data.values[:,0]\n",
        "AZ_images = AZ_data.values[:,1:]\n",
        "# images are reshaped to be used by the flow method of a keras ImageGenerator\n",
        "AZ_images = np.reshape(AZ_images,(AZ_images.shape[0],28,28,1))  "
      ]
    },
    {
      "cell_type": "code",
      "execution_count": null,
      "metadata": {
        "colab": {
          "base_uri": "https://localhost:8080/"
        },
        "id": "fgliB5Ze5SK6",
        "outputId": "849014b4-4b11-4e80-8cf3-9784497033aa"
      },
      "outputs": [
        {
          "name": "stdout",
          "output_type": "stream",
          "text": [
            "test set size: 0.16666666666666666\n",
            "Data ready\n"
          ]
        }
      ],
      "source": [
        "# join datasets\n",
        "# split AZ data in train and test\n",
        "from sklearn.model_selection import train_test_split\n",
        "\n",
        "test_size = float(len(test_labels_mnist))/len(train_labels_mnist)\n",
        "print(f'test set size: {test_size}')\n",
        "train_images_AZ, test_images_AZ, train_labels_AZ, test_labels_AZ = train_test_split(AZ_images,AZ_labels, test_size=test_size)\n",
        "#shift mnist labels \n",
        "train_labels_mnist = train_labels_mnist + max(AZ_labels)+1\n",
        "test_labels_mnist = test_labels_mnist + max(AZ_labels)+1\n",
        "\n",
        "# concatenate datasets\n",
        "train_images = np.concatenate((train_images_AZ,train_images_mnist),axis=0)\n",
        "train_labels = np.concatenate((train_labels_AZ,train_labels_mnist))\n",
        "test_images = np.concatenate((test_images_AZ,test_images_mnist),axis=0)\n",
        "test_labels = np.concatenate((test_labels_AZ,test_labels_mnist))\n",
        "\n",
        "print('Data ready')"
      ]
    },
    {
      "cell_type": "code",
      "execution_count": null,
      "metadata": {
        "colab": {
          "base_uri": "https://localhost:8080/"
        },
        "id": "0ZNBPdPu5V6y",
        "outputId": "3825d575-03dd-4750-ae46-a88fbfbf0168"
      },
      "outputs": [
        {
          "name": "stdout",
          "output_type": "stream",
          "text": [
            "Model: \"sequential\"\n",
            "_________________________________________________________________\n",
            " Layer (type)                Output Shape              Param #   \n",
            "=================================================================\n",
            " conv2d (Conv2D)             (None, 26, 26, 32)        320       \n",
            "                                                                 \n",
            " max_pooling2d (MaxPooling2D  (None, 13, 13, 32)       0         \n",
            " )                                                               \n",
            "                                                                 \n",
            " conv2d_1 (Conv2D)           (None, 11, 11, 32)        9248      \n",
            "                                                                 \n",
            " max_pooling2d_1 (MaxPooling  (None, 5, 5, 32)         0         \n",
            " 2D)                                                             \n",
            "                                                                 \n",
            " flatten (Flatten)           (None, 800)               0         \n",
            "                                                                 \n",
            " dense (Dense)               (None, 512)               410112    \n",
            "                                                                 \n",
            " dense_1 (Dense)             (None, 36)                18468     \n",
            "                                                                 \n",
            "=================================================================\n",
            "Total params: 438,148\n",
            "Trainable params: 438,148\n",
            "Non-trainable params: 0\n",
            "_________________________________________________________________\n"
          ]
        }
      ],
      "source": [
        "import tensorflow as tf\n",
        "from tensorflow.keras.optimizers import RMSprop\n",
        "model = tf.keras.models.Sequential([\n",
        "    # Note the input shape is the desired size of the image 150x150 with 3 bytes color\n",
        "    tf.keras.layers.Conv2D(32, (3,3), activation='relu', input_shape=(28, 28, 1)),\n",
        "    tf.keras.layers.MaxPooling2D(2,2),\n",
        "    tf.keras.layers.Conv2D(32, (3,3), activation='relu'),\n",
        "    tf.keras.layers.MaxPooling2D(2,2), \n",
        "    # Flatten the results to feed into a DNN\n",
        "    tf.keras.layers.Flatten(), \n",
        "    # 512 neuron hidden layer\n",
        "    tf.keras.layers.Dense(512, activation='relu'), \n",
        "    # Only 1 output neuron. It will contain a value from 0-1 where 0 for 1 class ('cats') and 1 for the other ('dogs')\n",
        "    tf.keras.layers.Dense(len(np.unique(train_labels)), activation='softmax')  \n",
        "])\n",
        "\n",
        "model.compile(optimizer=RMSprop(learning_rate=1e-4),\n",
        "              loss='sparse_categorical_crossentropy',\n",
        "              metrics = ['accuracy'])\n",
        "\n",
        "model.summary()"
      ]
    },
    {
      "cell_type": "code",
      "execution_count": null,
      "metadata": {
        "id": "X5ysBGCA5WsZ"
      },
      "outputs": [],
      "source": [
        "from tensorflow.keras.preprocessing.image import ImageDataGenerator\n",
        "train_datagen = ImageDataGenerator(\n",
        "      rescale=1./255,\n",
        "      rotation_range=15,\n",
        "      width_shift_range=0.1,\n",
        "      height_shift_range=0.1,\n",
        "      shear_range=0.1,\n",
        "      zoom_range=0.2,\n",
        "      horizontal_flip=False,\n",
        "      fill_mode='nearest')\n",
        "\n",
        "test_datagen = ImageDataGenerator(rescale=1./255)"
      ]
    },
    {
      "cell_type": "code",
      "execution_count": null,
      "metadata": {
        "id": "4-BqAm745ZKf"
      },
      "outputs": [],
      "source": [
        "# Flow training images in batches using generator\n",
        "train_generator = train_datagen.flow(train_images, train_labels, batch_size=50, shuffle=True)\n",
        "validation_generator = test_datagen.flow(test_images, test_labels, batch_size=50, shuffle=True)"
      ]
    },
    {
      "cell_type": "code",
      "execution_count": null,
      "metadata": {
        "colab": {
          "background_save": true,
          "base_uri": "https://localhost:8080/"
        },
        "id": "CKNkJhFM5b8S",
        "outputId": "5fb7d2c2-9697-4168-9041-9d07f5f6a1cb"
      },
      "outputs": [
        {
          "name": "stdout",
          "output_type": "stream",
          "text": [
            "Epoch 1/50\n",
            "500/500 - 34s - loss: 2.5567 - accuracy: 0.3266 - val_loss: 1.3520 - val_accuracy: 0.6312 - 34s/epoch - 68ms/step\n",
            "Epoch 2/50\n",
            "500/500 - 33s - loss: 1.6621 - accuracy: 0.5466 - val_loss: 0.7945 - val_accuracy: 0.7912 - 33s/epoch - 66ms/step\n",
            "Epoch 3/50\n",
            "500/500 - 32s - loss: 1.2511 - accuracy: 0.6536 - val_loss: 0.5858 - val_accuracy: 0.8356 - 32s/epoch - 64ms/step\n",
            "Epoch 4/50\n",
            "500/500 - 33s - loss: 1.0350 - accuracy: 0.7100 - val_loss: 0.4412 - val_accuracy: 0.8792 - 33s/epoch - 66ms/step\n",
            "Epoch 5/50\n",
            "500/500 - 35s - loss: 0.8670 - accuracy: 0.7582 - val_loss: 0.3905 - val_accuracy: 0.8884 - 35s/epoch - 71ms/step\n",
            "Epoch 6/50\n",
            "500/500 - 31s - loss: 0.7659 - accuracy: 0.7844 - val_loss: 0.3616 - val_accuracy: 0.9076 - 31s/epoch - 63ms/step\n",
            "Epoch 7/50\n",
            "500/500 - 32s - loss: 0.6822 - accuracy: 0.8068 - val_loss: 0.2922 - val_accuracy: 0.9196 - 32s/epoch - 64ms/step\n",
            "Epoch 8/50\n",
            "500/500 - 33s - loss: 0.6199 - accuracy: 0.8212 - val_loss: 0.3067 - val_accuracy: 0.9188 - 33s/epoch - 66ms/step\n",
            "Epoch 9/50\n",
            "500/500 - 33s - loss: 0.5898 - accuracy: 0.8317 - val_loss: 0.2954 - val_accuracy: 0.9204 - 33s/epoch - 65ms/step\n",
            "Epoch 10/50\n",
            "500/500 - 33s - loss: 0.5469 - accuracy: 0.8442 - val_loss: 0.2613 - val_accuracy: 0.9240 - 33s/epoch - 66ms/step\n",
            "Epoch 11/50\n",
            "500/500 - 35s - loss: 0.5142 - accuracy: 0.8517 - val_loss: 0.3237 - val_accuracy: 0.8968 - 35s/epoch - 69ms/step\n",
            "Epoch 12/50\n",
            "500/500 - 33s - loss: 0.5008 - accuracy: 0.8527 - val_loss: 0.2694 - val_accuracy: 0.9284 - 33s/epoch - 66ms/step\n",
            "Epoch 13/50\n",
            "500/500 - 31s - loss: 0.4904 - accuracy: 0.8586 - val_loss: 0.2579 - val_accuracy: 0.9284 - 31s/epoch - 62ms/step\n",
            "Epoch 14/50\n",
            "500/500 - 31s - loss: 0.4611 - accuracy: 0.8658 - val_loss: 0.3001 - val_accuracy: 0.8932 - 31s/epoch - 61ms/step\n",
            "Epoch 15/50\n",
            "500/500 - 32s - loss: 0.4457 - accuracy: 0.8707 - val_loss: 0.2457 - val_accuracy: 0.9268 - 32s/epoch - 63ms/step\n",
            "Epoch 16/50\n",
            "500/500 - 33s - loss: 0.4446 - accuracy: 0.8704 - val_loss: 0.2234 - val_accuracy: 0.9368 - 33s/epoch - 66ms/step\n",
            "Epoch 17/50\n",
            "500/500 - 30s - loss: 0.4150 - accuracy: 0.8796 - val_loss: 0.2552 - val_accuracy: 0.9248 - 30s/epoch - 61ms/step\n",
            "Epoch 18/50\n",
            "500/500 - 32s - loss: 0.4137 - accuracy: 0.8800 - val_loss: 0.2596 - val_accuracy: 0.9148 - 32s/epoch - 65ms/step\n",
            "Epoch 19/50\n",
            "500/500 - 32s - loss: 0.4027 - accuracy: 0.8837 - val_loss: 0.2393 - val_accuracy: 0.9288 - 32s/epoch - 64ms/step\n",
            "Epoch 20/50\n",
            "500/500 - 32s - loss: 0.3840 - accuracy: 0.8885 - val_loss: 0.2448 - val_accuracy: 0.9188 - 32s/epoch - 63ms/step\n",
            "Epoch 21/50\n",
            "500/500 - 33s - loss: 0.3813 - accuracy: 0.8916 - val_loss: 0.2879 - val_accuracy: 0.8924 - 33s/epoch - 66ms/step\n",
            "Epoch 22/50\n",
            "500/500 - 31s - loss: 0.3793 - accuracy: 0.8894 - val_loss: 0.1923 - val_accuracy: 0.9456 - 31s/epoch - 62ms/step\n",
            "Epoch 23/50\n",
            "500/500 - 32s - loss: 0.3744 - accuracy: 0.8894 - val_loss: 0.2351 - val_accuracy: 0.9308 - 32s/epoch - 63ms/step\n",
            "Epoch 24/50\n",
            "500/500 - 31s - loss: 0.3669 - accuracy: 0.8939 - val_loss: 0.2017 - val_accuracy: 0.9480 - 31s/epoch - 63ms/step\n",
            "Epoch 25/50\n",
            "500/500 - 30s - loss: 0.3564 - accuracy: 0.8949 - val_loss: 0.1965 - val_accuracy: 0.9400 - 30s/epoch - 60ms/step\n",
            "Epoch 26/50\n",
            "500/500 - 31s - loss: 0.3432 - accuracy: 0.8982 - val_loss: 0.1943 - val_accuracy: 0.9436 - 31s/epoch - 62ms/step\n",
            "Epoch 27/50\n",
            "500/500 - 33s - loss: 0.3479 - accuracy: 0.8997 - val_loss: 0.1832 - val_accuracy: 0.9452 - 33s/epoch - 65ms/step\n",
            "Epoch 28/50\n",
            "500/500 - 30s - loss: 0.3203 - accuracy: 0.9050 - val_loss: 0.2172 - val_accuracy: 0.9424 - 30s/epoch - 60ms/step\n",
            "Epoch 29/50\n",
            "500/500 - 31s - loss: 0.3232 - accuracy: 0.9020 - val_loss: 0.2318 - val_accuracy: 0.9300 - 31s/epoch - 62ms/step\n",
            "Epoch 30/50\n",
            "500/500 - 31s - loss: 0.3234 - accuracy: 0.9042 - val_loss: 0.1774 - val_accuracy: 0.9484 - 31s/epoch - 62ms/step\n",
            "Epoch 31/50\n",
            "500/500 - 32s - loss: 0.3209 - accuracy: 0.9028 - val_loss: 0.2087 - val_accuracy: 0.9304 - 32s/epoch - 64ms/step\n",
            "Epoch 32/50\n",
            "500/500 - 34s - loss: 0.3203 - accuracy: 0.9054 - val_loss: 0.1842 - val_accuracy: 0.9460 - 34s/epoch - 67ms/step\n",
            "Epoch 33/50\n",
            "500/500 - 31s - loss: 0.3241 - accuracy: 0.9058 - val_loss: 0.1868 - val_accuracy: 0.9348 - 31s/epoch - 62ms/step\n",
            "Epoch 34/50\n",
            "500/500 - 31s - loss: 0.3136 - accuracy: 0.9098 - val_loss: 0.1389 - val_accuracy: 0.9576 - 31s/epoch - 62ms/step\n",
            "Epoch 35/50\n",
            "500/500 - 30s - loss: 0.3029 - accuracy: 0.9103 - val_loss: 0.2253 - val_accuracy: 0.9312 - 30s/epoch - 61ms/step\n",
            "Epoch 36/50\n",
            "500/500 - 30s - loss: 0.2910 - accuracy: 0.9149 - val_loss: 0.2009 - val_accuracy: 0.9396 - 30s/epoch - 60ms/step\n",
            "Epoch 37/50\n",
            "500/500 - 33s - loss: 0.3016 - accuracy: 0.9109 - val_loss: 0.1935 - val_accuracy: 0.9440 - 33s/epoch - 65ms/step\n",
            "Epoch 38/50\n",
            "500/500 - 31s - loss: 0.3006 - accuracy: 0.9126 - val_loss: 0.1772 - val_accuracy: 0.9404 - 31s/epoch - 62ms/step\n",
            "Epoch 39/50\n",
            "500/500 - 31s - loss: 0.2831 - accuracy: 0.9164 - val_loss: 0.1712 - val_accuracy: 0.9472 - 31s/epoch - 63ms/step\n",
            "Epoch 40/50\n",
            "500/500 - 32s - loss: 0.2835 - accuracy: 0.9170 - val_loss: 0.1909 - val_accuracy: 0.9436 - 32s/epoch - 63ms/step\n",
            "Epoch 41/50\n",
            "500/500 - 32s - loss: 0.2931 - accuracy: 0.9108 - val_loss: 0.2070 - val_accuracy: 0.9252 - 32s/epoch - 64ms/step\n",
            "Epoch 42/50\n",
            "500/500 - 32s - loss: 0.2839 - accuracy: 0.9172 - val_loss: 0.1908 - val_accuracy: 0.9452 - 32s/epoch - 64ms/step\n",
            "Epoch 43/50\n",
            "500/500 - 32s - loss: 0.2819 - accuracy: 0.9169 - val_loss: 0.1918 - val_accuracy: 0.9444 - 32s/epoch - 63ms/step\n",
            "Epoch 44/50\n",
            "500/500 - 32s - loss: 0.2852 - accuracy: 0.9150 - val_loss: 0.1690 - val_accuracy: 0.9468 - 32s/epoch - 63ms/step\n",
            "Epoch 45/50\n",
            "500/500 - 32s - loss: 0.2744 - accuracy: 0.9194 - val_loss: 0.1648 - val_accuracy: 0.9496 - 32s/epoch - 64ms/step\n",
            "Epoch 46/50\n",
            "500/500 - 30s - loss: 0.2874 - accuracy: 0.9168 - val_loss: 0.1837 - val_accuracy: 0.9452 - 30s/epoch - 60ms/step\n",
            "Epoch 47/50\n",
            "500/500 - 30s - loss: 0.2784 - accuracy: 0.9183 - val_loss: 0.1576 - val_accuracy: 0.9528 - 30s/epoch - 60ms/step\n",
            "Epoch 48/50\n",
            "500/500 - 31s - loss: 0.2744 - accuracy: 0.9183 - val_loss: 0.1656 - val_accuracy: 0.9516 - 31s/epoch - 62ms/step\n",
            "Epoch 49/50\n",
            "500/500 - 30s - loss: 0.2651 - accuracy: 0.9228 - val_loss: 0.2272 - val_accuracy: 0.9348 - 30s/epoch - 60ms/step\n",
            "Epoch 50/50\n",
            "500/500 - 31s - loss: 0.2658 - accuracy: 0.9216 - val_loss: 0.1389 - val_accuracy: 0.9600 - 31s/epoch - 62ms/step\n"
          ]
        },
        {
          "name": "stderr",
          "output_type": "stream",
          "text": [
            "WARNING:absl:Found untraced functions such as _jit_compiled_convolution_op, _jit_compiled_convolution_op, _update_step_xla while saving (showing 3 of 3). These functions will not be directly callable after loading.\n"
          ]
        }
      ],
      "source": [
        "history = model.fit(\n",
        "      train_generator,\n",
        "      steps_per_epoch=500,  \n",
        "      epochs=50,\n",
        "      validation_data=validation_generator,\n",
        "      validation_steps=50,  \n",
        "      verbose=2)\n",
        "model.save('model_v2')"
      ]
    }
  ],
  "metadata": {
    "colab": {
      "provenance": []
    },
    "kernelspec": {
      "display_name": "Python 3",
      "name": "python3"
    },
    "language_info": {
      "name": "python"
    }
  },
  "nbformat": 4,
  "nbformat_minor": 0
}